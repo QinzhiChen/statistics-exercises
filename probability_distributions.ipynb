{
 "cells": [
  {
   "cell_type": "code",
   "execution_count": 2,
   "id": "5405cab7",
   "metadata": {},
   "outputs": [],
   "source": [
    "import matplotlib.pyplot as plt\n",
    "import numpy as np\n",
    "from scipy import stats\n",
    "import viz"
   ]
  },
  {
   "cell_type": "code",
   "execution_count": 27,
   "id": "563bf285",
   "metadata": {},
   "outputs": [],
   "source": [
    "# problem1"
   ]
  },
  {
   "cell_type": "code",
   "execution_count": 96,
   "id": "76bc01b1",
   "metadata": {},
   "outputs": [
    {
     "data": {
      "text/plain": [
       "<BarContainer object of 10 artists>"
      ]
     },
     "execution_count": 96,
     "metadata": {},
     "output_type": "execute_result"
    },
    {
     "data": {
      "image/png": "[encoded data removed]",
      "text/plain": [
       "<Figure size 648x432 with 1 Axes>"
      ]
     },
     "metadata": {
      "needs_background": "light"
     },
     "output_type": "display_data"
    }
   ],
   "source": [
    "x=np.arange(0,10)\n",
    "y=stats.poisson(2).pmf(x)\n",
    "plt.bar(x,y)\n",
    "x=np.arange(0,10)\n",
    "y=stats.poisson(2).sf(x)\n",
    "plt.bar(x,y)"
   ]
  },
  {
   "cell_type": "code",
   "execution_count": 89,
   "id": "28295d25",
   "metadata": {},
   "outputs": [
    {
     "data": {
      "text/plain": [
       "0.1353352832366127"
      ]
     },
     "execution_count": 89,
     "metadata": {},
     "output_type": "execute_result"
    }
   ],
   "source": [
    "stats.poisson(2).pmf(0)"
   ]
  },
  {
   "cell_type": "code",
   "execution_count": 90,
   "id": "40bfef5c",
   "metadata": {},
   "outputs": [
    {
     "data": {
      "text/plain": [
       "0.32332358381693654"
      ]
     },
     "execution_count": 90,
     "metadata": {},
     "output_type": "execute_result"
    }
   ],
   "source": [
    "stats.poisson(2).sf(2)"
   ]
  },
  {
   "cell_type": "code",
   "execution_count": 91,
   "id": "66a97048",
   "metadata": {},
   "outputs": [
    {
     "data": {
      "text/plain": [
       "0.8646647167633873"
      ]
     },
     "execution_count": 91,
     "metadata": {},
     "output_type": "execute_result"
    }
   ],
   "source": [
    "stats.poisson(2).sf(0)"
   ]
  },
  {
   "cell_type": "code",
   "execution_count": 92,
   "id": "b5ed33cd",
   "metadata": {},
   "outputs": [],
   "source": [
    "# problem2"
   ]
  },
  {
   "cell_type": "code",
   "execution_count": 104,
   "id": "df3a31cf",
   "metadata": {},
   "outputs": [
    {
     "data": {
      "text/plain": [
       "3.4934560880854417"
      ]
     },
     "execution_count": 104,
     "metadata": {},
     "output_type": "execute_result"
    }
   ],
   "source": [
    "stats.norm(3,0.3).isf(.05)"
   ]
  },
  {
   "cell_type": "code",
   "execution_count": 105,
   "id": "b81355c5",
   "metadata": {},
   "outputs": [
    {
     "data": {
      "text/plain": [
       "2.689069983151863"
      ]
     },
     "execution_count": 105,
     "metadata": {},
     "output_type": "execute_result"
    }
   ],
   "source": [
    "stats.norm(3,0.3).ppf(.15)"
   ]
  },
  {
   "cell_type": "code",
   "execution_count": 117,
   "id": "c752272e",
   "metadata": {},
   "outputs": [
    {
     "data": {
      "text/plain": [
       "(3.0, 3.2023469250588246)"
      ]
     },
     "execution_count": 117,
     "metadata": {},
     "output_type": "execute_result"
    }
   ],
   "source": [
    "Range=(stats.norm(3,0.3).ppf(.50),stats.norm(3,0.3).ppf(.75))\n",
    "Range"
   ]
  },
  {
   "cell_type": "code",
   "execution_count": 120,
   "id": "90bfb291",
   "metadata": {},
   "outputs": [
    {
     "data": {
      "text/plain": [
       "0.9522096477271853"
      ]
     },
     "execution_count": 120,
     "metadata": {},
     "output_type": "execute_result"
    }
   ],
   "source": [
    "stats.norm(3,0.3).cdf(3.5)"
   ]
  },
  {
   "cell_type": "code",
   "execution_count": 121,
   "id": "6553714e",
   "metadata": {},
   "outputs": [],
   "source": [
    "# problem 3"
   ]
  },
  {
   "cell_type": "code",
   "execution_count": 123,
   "id": "5e409271",
   "metadata": {},
   "outputs": [
    {
     "data": {
      "text/plain": [
       "0.11781530585978471"
      ]
     },
     "execution_count": 123,
     "metadata": {},
     "output_type": "execute_result"
    }
   ],
   "source": [
    "stats.binom(4326,.02).sf(97)"
   ]
  },
  {
   "cell_type": "code",
   "execution_count": 124,
   "id": "5151bf54",
   "metadata": {},
   "outputs": [],
   "source": [
    "# problem4"
   ]
  },
  {
   "cell_type": "code",
   "execution_count": 17,
   "id": "04a30db2",
   "metadata": {},
   "outputs": [
    {
     "data": {
      "text/plain": [
       "0.12123327131180726"
      ]
     },
     "execution_count": 17,
     "metadata": {},
     "output_type": "execute_result"
    }
   ],
   "source": [
    "stats.binom(60,.01).sf(1)"
   ]
  },
  {
   "cell_type": "code",
   "execution_count": 130,
   "id": "f371d05d",
   "metadata": {},
   "outputs": [],
   "source": [
    "# problem5"
   ]
  },
  {
   "cell_type": "code",
   "execution_count": 132,
   "id": "36dcb8b0",
   "metadata": {},
   "outputs": [
    {
     "data": {
      "text/plain": [
       "64.0"
      ]
     },
     "execution_count": 132,
     "metadata": {},
     "output_type": "execute_result"
    }
   ],
   "source": [
    "stats.binom(66,.9).isf(.03)"
   ]
  },
  {
   "cell_type": "code",
   "execution_count": 137,
   "id": "347483c0",
   "metadata": {},
   "outputs": [],
   "source": [
    "# problem6"
   ]
  },
  {
   "cell_type": "code",
   "execution_count": 136,
   "id": "0f58057b",
   "metadata": {},
   "outputs": [
    {
     "data": {
      "text/plain": [
       "0.5"
      ]
     },
     "execution_count": 136,
     "metadata": {},
     "output_type": "execute_result"
    }
   ],
   "source": [
    "stats.norm(15,3).sf(15)"
   ]
  },
  {
   "cell_type": "code",
   "execution_count": 138,
   "id": "7d4d306b",
   "metadata": {},
   "outputs": [],
   "source": [
    "# problem7"
   ]
  },
  {
   "cell_type": "code",
   "execution_count": 36,
   "id": "6dd71fb2",
   "metadata": {},
   "outputs": [],
   "source": [
    "import pandas as pd\n",
    "import env\n",
    "url = f'mysql+pymysql://{env.user}:{env.password}@{env.host}/employees'\n",
    "salary=pd.read_sql('SELECT salary FROM salaries', url)"
   ]
  },
  {
   "cell_type": "code",
   "execution_count": 57,
   "id": "82d9e568",
   "metadata": {},
   "outputs": [],
   "source": [
    "std=salary.std()"
   ]
  },
  {
   "cell_type": "code",
   "execution_count": 59,
   "id": "e4f41e5d",
   "metadata": {},
   "outputs": [],
   "source": [
    "mean=salary.mean()"
   ]
  },
  {
   "cell_type": "code",
   "execution_count": 60,
   "id": "36664948",
   "metadata": {},
   "outputs": [
    {
     "data": {
      "text/plain": [
       "array([0.41082495])"
      ]
     },
     "execution_count": 60,
     "metadata": {},
     "output_type": "execute_result"
    }
   ],
   "source": [
    "stats.norm(mean,std).cdf(60000)"
   ]
  },
  {
   "cell_type": "code",
   "execution_count": 61,
   "id": "1eb086c5",
   "metadata": {},
   "outputs": [
    {
     "data": {
      "text/plain": [
       "array([0.03251945])"
      ]
     },
     "execution_count": 61,
     "metadata": {},
     "output_type": "execute_result"
    }
   ],
   "source": [
    "stats.norm(mean,std).sf(95000)"
   ]
  },
  {
   "cell_type": "code",
   "execution_count": 65,
   "id": "354129ba",
   "metadata": {},
   "outputs": [
    {
     "data": {
      "text/plain": [
       "array([0.30284302])"
      ]
     },
     "execution_count": 65,
     "metadata": {},
     "output_type": "execute_result"
    }
   ],
   "source": [
    "1-(stats.norm(mean,std).cdf(65000)+stats.norm(mean,std).sf(80000))"
   ]
  },
  {
   "cell_type": "code",
   "execution_count": 63,
   "id": "fbc1f037",
   "metadata": {},
   "outputs": [
    {
     "data": {
      "text/plain": [
       "array([91616.71784708])"
      ]
     },
     "execution_count": 63,
     "metadata": {},
     "output_type": "execute_result"
    }
   ],
   "source": [
    "stats.norm(mean,std).isf(.05)"
   ]
  },
  {
   "cell_type": "code",
   "execution_count": null,
   "id": "61c210e2",
   "metadata": {},
   "outputs": [],
   "source": []
  }
 ],
 "metadata": {
  "kernelspec": {
   "display_name": "Python 3 (ipykernel)",
   "language": "python",
   "name": "python3"
  },
  "language_info": {
   "codemirror_mode": {
    "name": "ipython",
    "version": 3
   },
   "file_extension": ".py",
   "mimetype": "text/x-python",
   "name": "python",
   "nbconvert_exporter": "python",
   "pygments_lexer": "ipython3",
   "version": "3.9.12"
  }
 },
 "nbformat": 4,
 "nbformat_minor": 5
}
