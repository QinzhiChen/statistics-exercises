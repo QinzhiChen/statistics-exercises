{
 "cells": [
  {
   "cell_type": "markdown",
   "id": "bb927a14",
   "metadata": {},
   "source": [
    "For each of the following questions, formulate a null and alternative hypothesis (be as specific as you can be), then give an example of what a true positive, true negative, type I and type II errors would look like. Note that some of the questions are intentionally phrased in a vague way. It is your job to reword these as more precise questions that could be tested.\n",
    "\n",
    "Has the network latency gone up since we switched internet service providers?\n",
    "\n",
    "Ho= there are no difference on the network latency since we switched internet service prodivers\n",
    "Ha=The network latency has gone up since we switched internet service providers\n",
    "\n",
    "\n",
    "Is the website redesign any good?\n",
    "\n",
    "Ho=the website redesign has no difference result\n",
    "Ha=The website redesign has significant result\n",
    "\n",
    "Is our television ad driving more sales?\n",
    "\n",
    "Ho=The television ad has no impact on driving more sales\n",
    "Ha= The television ad has significant impact on sales"
   ]
  },
  {
   "cell_type": "code",
   "execution_count": 5,
   "id": "e0b5232a",
   "metadata": {},
   "outputs": [],
   "source": [
    "# exercise1\n",
    "'''Hypothesis: \n",
    "    H0=That two offices have same average time to sell homes\n",
    "    Ha=That two offices have different average time to sell homes\n",
    "   Set alpha = .05''"
   ]
  },
  {
   "cell_type": "code",
   "execution_count": 72,
   "id": "875058cc",
   "metadata": {},
   "outputs": [
    {
     "name": "stdout",
     "output_type": "stream",
     "text": [
      "we can reject the H0\n"
     ]
    }
   ],
   "source": [
    "tval, pval =stats.ttest_ind_from_stats(mean1=90,std1=15, nobs1=40, mean2=100,std2=20, nobs2=50)\n",
    "if pval < 0.05:\n",
    "    print('we can reject the H0')\n",
    "else:\n",
    "    print('we cannot reject the H0')"
   ]
  },
  {
   "cell_type": "code",
   "execution_count": 4,
   "id": "8b9e780b",
   "metadata": {},
   "outputs": [],
   "source": [
    "# exercise2"
   ]
  },
  {
   "cell_type": "code",
   "execution_count": 20,
   "id": "86b966fd",
   "metadata": {},
   "outputs": [],
   "source": [
    "import pandas as pd\n",
    "import matplotlib.pyplot as plt\n",
    "import scipy.stats as stats\n",
    "from pydataset import data\n",
    "mpg = data('mpg')"
   ]
  },
  {
   "cell_type": "code",
   "execution_count": 31,
   "id": "2e084a30",
   "metadata": {},
   "outputs": [],
   "source": [
    "car_99=mpg[mpg.year==1999]"
   ]
  },
  {
   "cell_type": "code",
   "execution_count": 32,
   "id": "b515bde0",
   "metadata": {},
   "outputs": [],
   "source": [
    "car_08=mpg[mpg.year==2008]"
   ]
  },
  {
   "cell_type": "code",
   "execution_count": 59,
   "id": "79988487",
   "metadata": {},
   "outputs": [
    {
     "name": "stderr",
     "output_type": "stream",
     "text": [
      "/var/folders/3k/kd9rcxws7ygft2krzxncw_400000gn/T/ipykernel_4735/77195951.py:1: SettingWithCopyWarning: \n",
      "A value is trying to be set on a copy of a slice from a DataFrame.\n",
      "Try using .loc[row_indexer,col_indexer] = value instead\n",
      "\n",
      "See the caveats in the documentation: https://pandas.pydata.org/pandas-docs/stable/user_guide/indexing.html#returning-a-view-versus-a-copy\n",
      "  car_99['combinedmpg']=car_99.cty+car_99.hwy\n"
     ]
    },
    {
     "data": {
      "text/plain": [
       "108.49042145593873"
      ]
     },
     "execution_count": 59,
     "metadata": {},
     "output_type": "execute_result"
    },
    {
     "data": {
      "image/png": "[encoded data removed]",
      "text/plain": [
       "<Figure size 432x288 with 1 Axes>"
      ]
     },
     "metadata": {
      "needs_background": "light"
     },
     "output_type": "display_data"
    }
   ],
   "source": [
    "car_99['combinedmpg']=car_99.cty+car_99.hwy\n",
    "car_99.combinedmpg.hist()\n",
    "car_99.combinedmpg.var()"
   ]
  },
  {
   "cell_type": "code",
   "execution_count": 57,
   "id": "e084ce20",
   "metadata": {},
   "outputs": [
    {
     "name": "stderr",
     "output_type": "stream",
     "text": [
      "/var/folders/3k/kd9rcxws7ygft2krzxncw_400000gn/T/ipykernel_4735/4141323110.py:1: SettingWithCopyWarning: \n",
      "A value is trying to be set on a copy of a slice from a DataFrame.\n",
      "Try using .loc[row_indexer,col_indexer] = value instead\n",
      "\n",
      "See the caveats in the documentation: https://pandas.pydata.org/pandas-docs/stable/user_guide/indexing.html#returning-a-view-versus-a-copy\n",
      "  car_08['combinedmpg']=car_08.cty+car_08.hwy\n"
     ]
    },
    {
     "data": {
      "text/plain": [
       "96.38992042440319"
      ]
     },
     "execution_count": 57,
     "metadata": {},
     "output_type": "execute_result"
    },
    {
     "data": {
      "image/png": "[encoded data removed]",
      "text/plain": [
       "<Figure size 432x288 with 1 Axes>"
      ]
     },
     "metadata": {
      "needs_background": "light"
     },
     "output_type": "display_data"
    }
   ],
   "source": [
    "car_08['combinedmpg']=car_08.cty+car_08.hwy\n",
    "car_08.combinedmpg.hist()\n",
    "car_08.combinedmpg.var()"
   ]
  },
  {
   "cell_type": "code",
   "execution_count": null,
   "id": "5d346c56",
   "metadata": {},
   "outputs": [],
   "source": [
    "'''Hypothesis: \n",
    "    H0=That two car years have same fuel-efficiency\n",
    "    Ha=That two car years have different fuel-efficiency\n",
    "   Set alpha = .05''"
   ]
  },
  {
   "cell_type": "code",
   "execution_count": 93,
   "id": "d06d7da4",
   "metadata": {},
   "outputs": [
    {
     "name": "stdout",
     "output_type": "stream",
     "text": [
      "we cannot reject the H0\n"
     ]
    },
    {
     "data": {
      "text/plain": [
       "-0.21960177245940962"
      ]
     },
     "execution_count": 93,
     "metadata": {},
     "output_type": "execute_result"
    }
   ],
   "source": [
    "tstat, pval = stats.ttest_ind(car_08.combinedmpg, car_99.combinedmpg, equal_var=False)\n",
    "if pval < 0.05:\n",
    "    print('we can reject the H0')\n",
    "else:\n",
    "    print('we cannot reject the H0')\n",
    "tstat"
   ]
  },
  {
   "cell_type": "code",
   "execution_count": null,
   "id": "66a05a06",
   "metadata": {},
   "outputs": [],
   "source": [
    "# probelm2-2"
   ]
  },
  {
   "cell_type": "code",
   "execution_count": 82,
   "id": "8b084fce",
   "metadata": {},
   "outputs": [
    {
     "name": "stderr",
     "output_type": "stream",
     "text": [
      "/var/folders/3k/kd9rcxws7ygft2krzxncw_400000gn/T/ipykernel_4735/3954692753.py:2: SettingWithCopyWarning: \n",
      "A value is trying to be set on a copy of a slice from a DataFrame.\n",
      "Try using .loc[row_indexer,col_indexer] = value instead\n",
      "\n",
      "See the caveats in the documentation: https://pandas.pydata.org/pandas-docs/stable/user_guide/indexing.html#returning-a-view-versus-a-copy\n",
      "  mpg_c['combinedmpg']=mpg_c.cty+mpg_c.hwy\n"
     ]
    },
    {
     "data": {
      "text/plain": [
       "49.77150786308973"
      ]
     },
     "execution_count": 82,
     "metadata": {},
     "output_type": "execute_result"
    },
    {
     "data": {
      "image/png": "[encoded data removed]",
      "text/plain": [
       "<Figure size 432x288 with 1 Axes>"
      ]
     },
     "metadata": {
      "needs_background": "light"
     },
     "output_type": "display_data"
    }
   ],
   "source": [
    "mpg_c=mpg[mpg['class'] =='compact']\n",
    "mpg_c['combinedmpg']=mpg_c.cty+mpg_c.hwy\n",
    "mpg_c.combinedmpg.hist()\n",
    "mpg_c.combinedmpg.var()"
   ]
  },
  {
   "cell_type": "code",
   "execution_count": 83,
   "id": "6e5f4251",
   "metadata": {},
   "outputs": [
    {
     "name": "stderr",
     "output_type": "stream",
     "text": [
      "/var/folders/3k/kd9rcxws7ygft2krzxncw_400000gn/T/ipykernel_4735/3284182975.py:2: SettingWithCopyWarning: \n",
      "A value is trying to be set on a copy of a slice from a DataFrame.\n",
      "Try using .loc[row_indexer,col_indexer] = value instead\n",
      "\n",
      "See the caveats in the documentation: https://pandas.pydata.org/pandas-docs/stable/user_guide/indexing.html#returning-a-view-versus-a-copy\n",
      "  mpg_nc['combinedmpg']=mpg_nc.cty+mpg_nc.hwy\n"
     ]
    },
    {
     "data": {
      "text/plain": [
       "94.61117819561841"
      ]
     },
     "execution_count": 83,
     "metadata": {},
     "output_type": "execute_result"
    },
    {
     "data": {
      "image/png": "[encoded data removed]",
      "text/plain": [
       "<Figure size 432x288 with 1 Axes>"
      ]
     },
     "metadata": {
      "needs_background": "light"
     },
     "output_type": "display_data"
    }
   ],
   "source": [
    "mpg_nc=mpg[mpg['class'] !='compact']\n",
    "mpg_nc['combinedmpg']=mpg_nc.cty+mpg_nc.hwy\n",
    "mpg_nc.combinedmpg.hist()\n",
    "mpg_nc.combinedmpg.var()"
   ]
  },
  {
   "cell_type": "code",
   "execution_count": null,
   "id": "cf4de346",
   "metadata": {},
   "outputs": [],
   "source": [
    "'''Hypothesis: \n",
    "    H0=That two car classes have same fuel-efficiency\n",
    "    Ha=That two car classes have different fuel-efficiency\n",
    "   Set alpha = .05''"
   ]
  },
  {
   "cell_type": "code",
   "execution_count": 94,
   "id": "dd66a12d",
   "metadata": {},
   "outputs": [
    {
     "name": "stdout",
     "output_type": "stream",
     "text": [
      "we can reject the H0\n"
     ]
    },
    {
     "data": {
      "text/plain": [
       "8.128810422808078"
      ]
     },
     "execution_count": 94,
     "metadata": {},
     "output_type": "execute_result"
    }
   ],
   "source": [
    "tstat, pval = stats.ttest_ind(mpg_c.combinedmpg, mpg_nc.combinedmpg, equal_var=False)\n",
    "if pval < 0.05:\n",
    "    print('we can reject the H0')\n",
    "else:\n",
    "    print('we cannot reject the H0')\n",
    "tstat"
   ]
  },
  {
   "cell_type": "code",
   "execution_count": 95,
   "id": "479a0ae5",
   "metadata": {},
   "outputs": [],
   "source": [
    "# problem 2-3"
   ]
  },
  {
   "cell_type": "code",
   "execution_count": 108,
   "id": "38b730ee",
   "metadata": {},
   "outputs": [
    {
     "name": "stderr",
     "output_type": "stream",
     "text": [
      "/var/folders/3k/kd9rcxws7ygft2krzxncw_400000gn/T/ipykernel_4735/3685090158.py:2: SettingWithCopyWarning: \n",
      "A value is trying to be set on a copy of a slice from a DataFrame.\n",
      "Try using .loc[row_indexer,col_indexer] = value instead\n",
      "\n",
      "See the caveats in the documentation: https://pandas.pydata.org/pandas-docs/stable/user_guide/indexing.html#returning-a-view-versus-a-copy\n",
      "  mpg_a['combinedmpg']=mpg_a.cty+mpg_a.hwy\n"
     ]
    },
    {
     "data": {
      "text/plain": [
       "87.77110893352935"
      ]
     },
     "execution_count": 108,
     "metadata": {},
     "output_type": "execute_result"
    },
    {
     "data": {
      "image/png": "[encoded data removed]",
      "text/plain": [
       "<Figure size 432x288 with 1 Axes>"
      ]
     },
     "metadata": {
      "needs_background": "light"
     },
     "output_type": "display_data"
    }
   ],
   "source": [
    "mpg_a=mpg[mpg.trans.str.contains('auto')]\n",
    "mpg_a['combinedmpg']=mpg_a.cty+mpg_a.hwy\n",
    "mpg_a.combinedmpg.hist()\n",
    "mpg_a.combinedmpg.var()"
   ]
  },
  {
   "cell_type": "code",
   "execution_count": 107,
   "id": "7063d72f",
   "metadata": {},
   "outputs": [
    {
     "name": "stderr",
     "output_type": "stream",
     "text": [
      "/var/folders/3k/kd9rcxws7ygft2krzxncw_400000gn/T/ipykernel_4735/2141866982.py:2: SettingWithCopyWarning: \n",
      "A value is trying to be set on a copy of a slice from a DataFrame.\n",
      "Try using .loc[row_indexer,col_indexer] = value instead\n",
      "\n",
      "See the caveats in the documentation: https://pandas.pydata.org/pandas-docs/stable/user_guide/indexing.html#returning-a-view-versus-a-copy\n",
      "  mpg_m['combinedmpg']=mpg_a.cty+mpg_a.hwy\n"
     ]
    },
    {
     "data": {
      "text/plain": [
       "106.5406698564593"
      ]
     },
     "execution_count": 107,
     "metadata": {},
     "output_type": "execute_result"
    },
    {
     "data": {
      "image/png": "[encoded data removed]",
      "text/plain": [
       "<Figure size 432x288 with 1 Axes>"
      ]
     },
     "metadata": {
      "needs_background": "light"
     },
     "output_type": "display_data"
    }
   ],
   "source": [
    "mpg_m=mpg[mpg.trans.str.contains('manu')]\n",
    "mpg_m['combinedmpg']=mpg_a.cty+mpg_a.hwy\n",
    "mpg_m.combinedmpg.hist()\n",
    "mpg_m.combinedmpg.var()"
   ]
  },
  {
   "cell_type": "code",
   "execution_count": 111,
   "id": "5657dd52",
   "metadata": {},
   "outputs": [
    {
     "data": {
      "text/plain": [
       "'Hypothesis: \\n    H0=That two car transmission have same fuel-efficiency\\n    Ha=That two car transmission have different fuel-efficiency\\n   Set alpha = .05'"
      ]
     },
     "execution_count": 111,
     "metadata": {},
     "output_type": "execute_result"
    }
   ],
   "source": [
    "'''Hypothesis: \n",
    "    H0=That two car transmission have same fuel-efficiency\n",
    "    Ha=That two car transmission have different fuel-efficiency\n",
    "   Set alpha = .05'''"
   ]
  },
  {
   "cell_type": "code",
   "execution_count": 109,
   "id": "d8e29f2e",
   "metadata": {},
   "outputs": [
    {
     "name": "stdout",
     "output_type": "stream",
     "text": [
      "we can reject the H0\n"
     ]
    },
    {
     "data": {
      "text/plain": [
       "-4.443514012903071"
      ]
     },
     "execution_count": 109,
     "metadata": {},
     "output_type": "execute_result"
    }
   ],
   "source": [
    "tstat, pval = stats.ttest_ind(mpg_a.combinedmpg, mpg_m.combinedmpg, equal_var=False)\n",
    "if pval < 0.05:\n",
    "    print('we can reject the H0')\n",
    "else:\n",
    "    print('we cannot reject the H0')\n",
    "tstat"
   ]
  },
  {
   "cell_type": "code",
   "execution_count": null,
   "id": "618ac690",
   "metadata": {},
   "outputs": [],
   "source": []
  }
 ],
 "metadata": {
  "kernelspec": {
   "display_name": "Python 3 (ipykernel)",
   "language": "python",
   "name": "python3"
  },
  "language_info": {
   "codemirror_mode": {
    "name": "ipython",
    "version": 3
   },
   "file_extension": ".py",
   "mimetype": "text/x-python",
   "name": "python",
   "nbconvert_exporter": "python",
   "pygments_lexer": "ipython3",
   "version": "3.9.12"
  }
 },
 "nbformat": 4,
 "nbformat_minor": 5
}
