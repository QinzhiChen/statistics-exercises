{
 "cells": [
  {
   "cell_type": "code",
   "execution_count": 3,
   "id": "3855f618",
   "metadata": {},
   "outputs": [],
   "source": [
    "%matplotlib inline\n",
    "import numpy as np\n",
    "import pandas as pd\n",
    "import viz"
   ]
  },
  {
   "cell_type": "code",
   "execution_count": 4,
   "id": "dc882eb8",
   "metadata": {},
   "outputs": [],
   "source": [
    "n_rows=100_000\n",
    "n_dice1=ncols1=1\n",
    "n_dice2=ncols2=1\n",
    "rolls_ar=np.random.choice([1,2,3,4,5,6],n_rows*(n_dice1+n_dice2)).reshape(n_rows,(ncols1+ncols2))"
   ]
  },
  {
   "cell_type": "code",
   "execution_count": 5,
   "id": "60da045c",
   "metadata": {},
   "outputs": [],
   "source": [
    "doubles_df=pd.DataFrame(rolls_ar, columns=['cols1','cols2'])"
   ]
  },
  {
   "cell_type": "code",
   "execution_count": 6,
   "id": "0a3ab263",
   "metadata": {},
   "outputs": [],
   "source": [
    "doubles_df['new_cols']=doubles_df.cols1/doubles_df.cols2"
   ]
  },
  {
   "cell_type": "code",
   "execution_count": 7,
   "id": "06409772",
   "metadata": {},
   "outputs": [
    {
     "data": {
      "text/plain": [
       "0.16794"
      ]
     },
     "execution_count": 7,
     "metadata": {},
     "output_type": "execute_result"
    }
   ],
   "source": [
    "pro=len(doubles_df[doubles_df.new_cols==1.00000000000])/len(doubles_df)\n",
    "pro"
   ]
  },
  {
   "cell_type": "code",
   "execution_count": 8,
   "id": "c7f66ca7",
   "metadata": {},
   "outputs": [],
   "source": [
    "# problem 2"
   ]
  },
  {
   "cell_type": "code",
   "execution_count": 9,
   "id": "aece8fae",
   "metadata": {},
   "outputs": [],
   "source": [
    "outcome=['h','t']\n",
    "trial=8\n",
    "rows=100_000\n",
    "coflips_ar=np.random.choice(outcome,(rows,trial))"
   ]
  },
  {
   "cell_type": "code",
   "execution_count": 10,
   "id": "e98c8e76",
   "metadata": {},
   "outputs": [
    {
     "data": {
      "text/plain": [
       "0.22141"
      ]
     },
     "execution_count": 10,
     "metadata": {},
     "output_type": "execute_result"
    }
   ],
   "source": [
    "headcount=(coflips_ar=='h').sum(axis=1)\n",
    "(headcount==3).mean()"
   ]
  },
  {
   "cell_type": "code",
   "execution_count": 11,
   "id": "a5ff2797",
   "metadata": {},
   "outputs": [
    {
     "data": {
      "text/plain": [
       "0.63428"
      ]
     },
     "execution_count": 11,
     "metadata": {},
     "output_type": "execute_result"
    }
   ],
   "source": [
    "(headcount>3).mean()"
   ]
  },
  {
   "cell_type": "code",
   "execution_count": 12,
   "id": "6d6d3734",
   "metadata": {},
   "outputs": [],
   "source": [
    "# problem3"
   ]
  },
  {
   "cell_type": "code",
   "execution_count": 13,
   "id": "1033fe7d",
   "metadata": {},
   "outputs": [],
   "source": [
    "outcome=['w','w','w','d']\n",
    "trial=2\n",
    "rows=100_000\n",
    "billboards_ar=np.random.choice(outcome,(rows,trial))\n",
    "two_df=pd.DataFrame(billboards_ar,columns=['cols1','cols2'])\n"
   ]
  },
  {
   "cell_type": "code",
   "execution_count": 14,
   "id": "582cfa7f",
   "metadata": {},
   "outputs": [
    {
     "data": {
      "text/plain": [
       "0.06296"
      ]
     },
     "execution_count": 14,
     "metadata": {},
     "output_type": "execute_result"
    }
   ],
   "source": [
    "two_df['d+d1']=(two_df.cols1)+(two_df.cols2)\n",
    "pro3=len(two_df[two_df['d+d1']=='dd'])/len(two_df)\n",
    "pro3"
   ]
  },
  {
   "cell_type": "code",
   "execution_count": 15,
   "id": "581ceadc",
   "metadata": {},
   "outputs": [],
   "source": [
    "# problem4"
   ]
  },
  {
   "cell_type": "code",
   "execution_count": 16,
   "id": "20314ff4",
   "metadata": {},
   "outputs": [
    {
     "data": {
      "text/plain": [
       "<AxesSubplot:>"
      ]
     },
     "execution_count": 16,
     "metadata": {},
     "output_type": "execute_result"
    },
    {
     "data": {
      "image/png": "[encoded data removed]",
      "text/plain": [
       "<Figure size 648x432 with 1 Axes>"
      ]
     },
     "metadata": {
      "needs_background": "light"
     },
     "output_type": "display_data"
    }
   ],
   "source": [
    "pd.Series(np.random.normal(3,1.5,size=17)).hist()"
   ]
  },
  {
   "cell_type": "code",
   "execution_count": 17,
   "id": "0bd1bbe3",
   "metadata": {},
   "outputs": [],
   "source": [
    "# problem 5"
   ]
  },
  {
   "cell_type": "code",
   "execution_count": 18,
   "id": "5642cb59",
   "metadata": {},
   "outputs": [],
   "source": [
    "male=pd.Series(np.random.normal(178,8,size=10_000))\n",
    "female=pd.Series(np.random.normal(170,6,size=10_000))"
   ]
  },
  {
   "cell_type": "code",
   "execution_count": 19,
   "id": "216d7bb8",
   "metadata": {},
   "outputs": [
    {
     "data": {
      "text/plain": [
       "0.2076"
      ]
     },
     "execution_count": 19,
     "metadata": {},
     "output_type": "execute_result"
    }
   ],
   "source": [
    "Height_df=pd.DataFrame((male-female<=0),columns=['cols'])\n",
    "pro3=len(Height_df[Height_df.cols==True])/len(Height_df)\n",
    "pro3"
   ]
  },
  {
   "cell_type": "code",
   "execution_count": 20,
   "id": "be38b55a",
   "metadata": {},
   "outputs": [],
   "source": [
    "n=list('S'+'F'*249)\n",
    "outcome=n\n",
    "trial=50\n",
    "row=100_000\n",
    "fifty_ar=np.random.choice(outcome,(row,trial))"
   ]
  },
  {
   "cell_type": "code",
   "execution_count": 21,
   "id": "80545e36",
   "metadata": {},
   "outputs": [],
   "source": [
    "fifty_count=((fifty_ar=='S').sum(axis=1))>=1"
   ]
  },
  {
   "cell_type": "code",
   "execution_count": 22,
   "id": "6702cd57",
   "metadata": {},
   "outputs": [
    {
     "data": {
      "text/plain": [
       "0.18294"
      ]
     },
     "execution_count": 22,
     "metadata": {},
     "output_type": "execute_result"
    }
   ],
   "source": [
    "fifp=(fifty_count.sum())/row\n",
    "fifp"
   ]
  },
  {
   "cell_type": "code",
   "execution_count": 23,
   "id": "efdfddcb",
   "metadata": {},
   "outputs": [],
   "source": [
    "n=list('S'+'F'*249)\n",
    "outcome=n\n",
    "trial=100\n",
    "row=100_000\n",
    "hun_ar=np.random.choice(outcome,(row,trial))"
   ]
  },
  {
   "cell_type": "code",
   "execution_count": 24,
   "id": "cf992109",
   "metadata": {},
   "outputs": [
    {
     "data": {
      "text/plain": [
       "0.32988"
      ]
     },
     "execution_count": 24,
     "metadata": {},
     "output_type": "execute_result"
    }
   ],
   "source": [
    "hun_count=((hun_ar=='S').sum(axis=1))>=1\n",
    "hunp=(hun_count.sum())/row\n",
    "hunp"
   ]
  },
  {
   "cell_type": "code",
   "execution_count": 25,
   "id": "9919a8ab",
   "metadata": {},
   "outputs": [
    {
     "data": {
      "text/plain": [
       "0.45311"
      ]
     },
     "execution_count": 25,
     "metadata": {},
     "output_type": "execute_result"
    }
   ],
   "source": [
    "n=list('S'+'F'*249)\n",
    "outcome=n\n",
    "trial=150\n",
    "row=100_000\n",
    "onefi_ar=np.random.choice(outcome,(row,trial))\n",
    "onefi_count=((onefi_ar=='S').sum(axis=1))>=1\n",
    "(onefi_count.sum())/row"
   ]
  },
  {
   "cell_type": "code",
   "execution_count": 26,
   "id": "3209c1d5",
   "metadata": {},
   "outputs": [
    {
     "data": {
      "text/plain": [
       "0.16439"
      ]
     },
     "execution_count": 26,
     "metadata": {},
     "output_type": "execute_result"
    }
   ],
   "source": [
    "n=list('S'+'F'*249)\n",
    "outcome=n\n",
    "trial=450\n",
    "row=100_000\n",
    "fourfi_ar=np.random.choice(outcome,(row,trial))\n",
    "fourfi_count=((fourfi_ar=='S').sum(axis=1))==0\n",
    "(fourfi_count.sum())/row"
   ]
  },
  {
   "cell_type": "code",
   "execution_count": 27,
   "id": "2f349a0f",
   "metadata": {},
   "outputs": [],
   "source": [
    "# problem 7"
   ]
  },
  {
   "cell_type": "code",
   "execution_count": 101,
   "id": "53a0fc50",
   "metadata": {},
   "outputs": [
    {
     "data": {
      "text/html": [
       "<div>\n",
       "<style scoped>\n",
       "    .dataframe tbody tr th:only-of-type {\n",
       "        vertical-align: middle;\n",
       "    }\n",
       "\n",
       "    .dataframe tbody tr th {\n",
       "        vertical-align: top;\n",
       "    }\n",
       "\n",
       "    .dataframe thead th {\n",
       "        text-align: right;\n",
       "    }\n",
       "</style>\n",
       "<table border=\"1\" class=\"dataframe\">\n",
       "  <thead>\n",
       "    <tr style=\"text-align: right;\">\n",
       "      <th></th>\n",
       "      <th>cols1</th>\n",
       "      <th>cols2</th>\n",
       "      <th>cols3</th>\n",
       "      <th>cols4</th>\n",
       "      <th>cols5</th>\n",
       "      <th>cols6</th>\n",
       "      <th>cols7</th>\n",
       "      <th>newcols</th>\n",
       "    </tr>\n",
       "  </thead>\n",
       "  <tbody>\n",
       "    <tr>\n",
       "      <th>14</th>\n",
       "      <td>Y</td>\n",
       "      <td>Y</td>\n",
       "      <td>Y</td>\n",
       "      <td>N</td>\n",
       "      <td>N</td>\n",
       "      <td>N</td>\n",
       "      <td>Y</td>\n",
       "      <td>YYYNNNY</td>\n",
       "    </tr>\n",
       "    <tr>\n",
       "      <th>46</th>\n",
       "      <td>N</td>\n",
       "      <td>N</td>\n",
       "      <td>N</td>\n",
       "      <td>N</td>\n",
       "      <td>Y</td>\n",
       "      <td>Y</td>\n",
       "      <td>Y</td>\n",
       "      <td>NNNNYYY</td>\n",
       "    </tr>\n",
       "    <tr>\n",
       "      <th>49</th>\n",
       "      <td>N</td>\n",
       "      <td>N</td>\n",
       "      <td>N</td>\n",
       "      <td>N</td>\n",
       "      <td>Y</td>\n",
       "      <td>Y</td>\n",
       "      <td>Y</td>\n",
       "      <td>NNNNYYY</td>\n",
       "    </tr>\n",
       "    <tr>\n",
       "      <th>57</th>\n",
       "      <td>Y</td>\n",
       "      <td>N</td>\n",
       "      <td>N</td>\n",
       "      <td>N</td>\n",
       "      <td>Y</td>\n",
       "      <td>Y</td>\n",
       "      <td>Y</td>\n",
       "      <td>YNNNYYY</td>\n",
       "    </tr>\n",
       "    <tr>\n",
       "      <th>66</th>\n",
       "      <td>Y</td>\n",
       "      <td>N</td>\n",
       "      <td>N</td>\n",
       "      <td>Y</td>\n",
       "      <td>N</td>\n",
       "      <td>N</td>\n",
       "      <td>N</td>\n",
       "      <td>YNNYNNN</td>\n",
       "    </tr>\n",
       "    <tr>\n",
       "      <th>...</th>\n",
       "      <td>...</td>\n",
       "      <td>...</td>\n",
       "      <td>...</td>\n",
       "      <td>...</td>\n",
       "      <td>...</td>\n",
       "      <td>...</td>\n",
       "      <td>...</td>\n",
       "      <td>...</td>\n",
       "    </tr>\n",
       "    <tr>\n",
       "      <th>99967</th>\n",
       "      <td>Y</td>\n",
       "      <td>Y</td>\n",
       "      <td>N</td>\n",
       "      <td>N</td>\n",
       "      <td>N</td>\n",
       "      <td>Y</td>\n",
       "      <td>Y</td>\n",
       "      <td>YYNNNYY</td>\n",
       "    </tr>\n",
       "    <tr>\n",
       "      <th>99973</th>\n",
       "      <td>Y</td>\n",
       "      <td>N</td>\n",
       "      <td>Y</td>\n",
       "      <td>N</td>\n",
       "      <td>N</td>\n",
       "      <td>N</td>\n",
       "      <td>Y</td>\n",
       "      <td>YNYNNNY</td>\n",
       "    </tr>\n",
       "    <tr>\n",
       "      <th>99982</th>\n",
       "      <td>Y</td>\n",
       "      <td>N</td>\n",
       "      <td>N</td>\n",
       "      <td>N</td>\n",
       "      <td>N</td>\n",
       "      <td>Y</td>\n",
       "      <td>N</td>\n",
       "      <td>YNNNNYN</td>\n",
       "    </tr>\n",
       "    <tr>\n",
       "      <th>99987</th>\n",
       "      <td>Y</td>\n",
       "      <td>N</td>\n",
       "      <td>Y</td>\n",
       "      <td>N</td>\n",
       "      <td>N</td>\n",
       "      <td>N</td>\n",
       "      <td>N</td>\n",
       "      <td>YNYNNNN</td>\n",
       "    </tr>\n",
       "    <tr>\n",
       "      <th>99996</th>\n",
       "      <td>Y</td>\n",
       "      <td>Y</td>\n",
       "      <td>Y</td>\n",
       "      <td>Y</td>\n",
       "      <td>N</td>\n",
       "      <td>N</td>\n",
       "      <td>N</td>\n",
       "      <td>YYYYNNN</td>\n",
       "    </tr>\n",
       "  </tbody>\n",
       "</table>\n",
       "<p>10213 rows × 8 columns</p>\n",
       "</div>"
      ],
      "text/plain": [
       "      cols1 cols2 cols3 cols4 cols5 cols6 cols7  newcols\n",
       "14        Y     Y     Y     N     N     N     Y  YYYNNNY\n",
       "46        N     N     N     N     Y     Y     Y  NNNNYYY\n",
       "49        N     N     N     N     Y     Y     Y  NNNNYYY\n",
       "57        Y     N     N     N     Y     Y     Y  YNNNYYY\n",
       "66        Y     N     N     Y     N     N     N  YNNYNNN\n",
       "...     ...   ...   ...   ...   ...   ...   ...      ...\n",
       "99967     Y     Y     N     N     N     Y     Y  YYNNNYY\n",
       "99973     Y     N     Y     N     N     N     Y  YNYNNNY\n",
       "99982     Y     N     N     N     N     Y     N  YNNNNYN\n",
       "99987     Y     N     Y     N     N     N     N  YNYNNNN\n",
       "99996     Y     Y     Y     Y     N     N     N  YYYYNNN\n",
       "\n",
       "[10213 rows x 8 columns]"
      ]
     },
     "execution_count": 101,
     "metadata": {},
     "output_type": "execute_result"
    }
   ],
   "source": [
    "n=list('Y'*70+'N'*30)\n",
    "outcome=n\n",
    "trial=7\n",
    "row=100_000\n",
    "foodt_ar=np.random.choice(outcome,(row,trial))\n",
    "doubles_df=pd.DataFrame(foodt_ar, columns=['cols1','cols2','cols3','cols4','cols5','cols6','cols7'])\n",
    "doubles_df['newcols']=doubles_df.cols1+doubles_df.cols2+doubles_df.cols3+doubles_df.cols4+doubles_df.cols5+doubles_df.cols6+doubles_df.cols7"
   ]
  },
  {
   "cell_type": "code",
   "execution_count": 106,
   "id": "05ffa4c1",
   "metadata": {},
   "outputs": [
    {
     "data": {
      "text/plain": [
       "0.89787"
      ]
     },
     "execution_count": 106,
     "metadata": {},
     "output_type": "execute_result"
    }
   ],
   "source": [
    "1-(len(doubles_df[doubles_df.newcols.str.contains('NNN')])/len(doubles_df))"
   ]
  },
  {
   "cell_type": "code",
   "execution_count": 107,
   "id": "502c27cb",
   "metadata": {},
   "outputs": [
    {
     "data": {
      "text/plain": [
       "0.99985"
      ]
     },
     "execution_count": 107,
     "metadata": {},
     "output_type": "execute_result"
    }
   ],
   "source": [
    "n=list('Y'*70+'N'*30)\n",
    "outcome=n\n",
    "trial=7\n",
    "row=100_000\n",
    "foodt_ar=np.random.choice(outcome,(row,trial))\n",
    "foodt_count=((foodt_ar=='Y').sum(axis=1))>=1\n",
    "(foodt_count.sum())/row"
   ]
  },
  {
   "cell_type": "code",
   "execution_count": 108,
   "id": "27f43fa2",
   "metadata": {},
   "outputs": [],
   "source": [
    "# problem 8"
   ]
  },
  {
   "cell_type": "code",
   "execution_count": 109,
   "id": "ca9b14d5",
   "metadata": {},
   "outputs": [
    {
     "data": {
      "text/plain": [
       "0.00192"
      ]
     },
     "execution_count": 109,
     "metadata": {},
     "output_type": "execute_result"
    }
   ],
   "source": [
    "n=list('S'+'N'*364)\n",
    "outcome=n\n",
    "trial=23\n",
    "row=100_000\n",
    "sameb_ar=np.random.choice(outcome,(row,trial))\n",
    "sameb_count=((sameb_ar=='S').sum(axis=1))>=2\n",
    "(sameb_count.sum())/row"
   ]
  },
  {
   "cell_type": "code",
   "execution_count": 110,
   "id": "43e12a1d",
   "metadata": {},
   "outputs": [
    {
     "data": {
      "text/plain": [
       "0.00144"
      ]
     },
     "execution_count": 110,
     "metadata": {},
     "output_type": "execute_result"
    }
   ],
   "source": [
    "n=list('S'+'N'*364)\n",
    "outcome=n\n",
    "trial=20\n",
    "row=100_000\n",
    "sameb_ar=np.random.choice(outcome,(row,trial))\n",
    "sameb_count=((sameb_ar=='S').sum(axis=1))>=2\n",
    "(sameb_count.sum())/row"
   ]
  },
  {
   "cell_type": "code",
   "execution_count": 111,
   "id": "2e0f6791",
   "metadata": {},
   "outputs": [
    {
     "data": {
      "text/plain": [
       "0.00532"
      ]
     },
     "execution_count": 111,
     "metadata": {},
     "output_type": "execute_result"
    }
   ],
   "source": [
    "n=list('S'+'N'*364)\n",
    "outcome=n\n",
    "trial=40\n",
    "row=100_000\n",
    "sameb_ar=np.random.choice(outcome,(row,trial))\n",
    "sameb_count=((sameb_ar=='S').sum(axis=1))>=2\n",
    "(sameb_count.sum())/row"
   ]
  },
  {
   "cell_type": "code",
   "execution_count": null,
   "id": "1e2bacd7",
   "metadata": {},
   "outputs": [],
   "source": []
  }
 ],
 "metadata": {
  "kernelspec": {
   "display_name": "Python 3 (ipykernel)",
   "language": "python",
   "name": "python3"
  },
  "language_info": {
   "codemirror_mode": {
    "name": "ipython",
    "version": 3
   },
   "file_extension": ".py",
   "mimetype": "text/x-python",
   "name": "python",
   "nbconvert_exporter": "python",
   "pygments_lexer": "ipython3",
   "version": "3.9.12"
  }
 },
 "nbformat": 4,
 "nbformat_minor": 5
}
